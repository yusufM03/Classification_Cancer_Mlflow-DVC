{
 "cells": [
  {
   "cell_type": "code",
   "execution_count": 3,
   "metadata": {},
   "outputs": [],
   "source": [
    "import os"
   ]
  },
  {
   "cell_type": "code",
   "execution_count": 4,
   "metadata": {},
   "outputs": [],
   "source": [
    "\n",
    "os.chdir(\"../\")"
   ]
  },
  {
   "cell_type": "code",
   "execution_count": 10,
   "metadata": {},
   "outputs": [
    {
     "data": {
      "text/plain": [
       "'c:\\\\Users\\\\youss\\\\OneDrive\\\\Bureau\\\\cl'"
      ]
     },
     "execution_count": 10,
     "metadata": {},
     "output_type": "execute_result"
    }
   ],
   "source": [
    "pwd"
   ]
  },
  {
   "cell_type": "code",
   "execution_count": 25,
   "metadata": {},
   "outputs": [],
   "source": [
    "from dataclasses import dataclass\n",
    "from pathlib import Path\n",
    "\n",
    "\n",
    "@dataclass(frozen=True)\n",
    "class EvaluationConfig:\n",
    "    root_dir: Path\n",
    "    trained_model_path: Path\n",
    "    MLflow_URI: Path \n",
    "    training_data: Path\n",
    "    all_params: dict\n",
    "    params_batch_size: int\n",
    "    params_image_size: list\n",
    "\n"
   ]
  },
  {
   "cell_type": "code",
   "execution_count": 26,
   "metadata": {},
   "outputs": [],
   "source": [
    "from classification.constants import *\n",
    "from classification.utils.common import read_yaml,create_directories,  save_json"
   ]
  },
  {
   "cell_type": "code",
   "execution_count": null,
   "metadata": {},
   "outputs": [],
   "source": []
  },
  {
   "cell_type": "code",
   "execution_count": 27,
   "metadata": {},
   "outputs": [],
   "source": [
    "class ConfigurationManager:\n",
    "    def __init__(\n",
    "        self,\n",
    "        config_filepath = CONFIG_FILE_PATH,\n",
    "        params_filepath = PARAMS_FILE_PATH):\n",
    "\n",
    "        self.config = read_yaml(config_filepath)\n",
    "        self.params = read_yaml(params_filepath)\n",
    "\n",
    "        create_directories([self.config.artifacts_root])\n",
    "\n",
    "        \n",
    "\n",
    "    def get_Evaluation_config(self) -> EvaluationConfig:\n",
    "        Evaluation= self.config.Evaluation\n",
    "        params = self.params\n",
    "        training_data = os.path.join(self.config.data_ingestion.unzip_dir,\"Data\")\n",
    "        create_directories([\n",
    "            Path(Evaluation.root_dir)\n",
    "        ])\n",
    "        \n",
    "\n",
    "\n",
    "        Evaluation_config = EvaluationConfig(\n",
    "            root_dir=Path(Evaluation.root_dir),\n",
    "            trained_model_path=Path(Evaluation.trained_model_path),\n",
    "            MLflow_URI=Evaluation.MLflow_URI,\n",
    "            training_data=Path(training_data),\n",
    "\n",
    "            all_params=params,\n",
    "            params_batch_size=params.BATCH_SIZE,\n",
    "            params_image_size=params.IMAGE_SIZE\n",
    "        )\n",
    "        return Evaluation_config"
   ]
  },
  {
   "cell_type": "code",
   "execution_count": 28,
   "metadata": {},
   "outputs": [],
   "source": [
    "os.environ[\"MLFLOW_TRACKING_URI\"]=\"https://dagshub.com/yusufM03/Classification_Mlflow-DVC.mlflow\"\n",
    "os.environ[\"MLFLOW_TRACKING_USERNAME\"]=\"yusufM03\"\n",
    "os.environ[\"MLFLOW_TRACKING_PASSWORD\"]=\"3735ecba8f2f0dccee05c421728f3ed8abd06c96\"\n",
    "\n",
    "\n",
    "\n"
   ]
  },
  {
   "cell_type": "code",
   "execution_count": 53,
   "metadata": {},
   "outputs": [],
   "source": [
    "import os\n",
    "import tensorflow as tf\n",
    "from classification import logger\n",
    "import mlflow\n",
    "import mlflow.keras\n",
    "import numpy as np\n",
    "from classification.components.Training_model import training_Model \n",
    "#Component \n",
    "from urllib.parse import urlparse\n",
    "from sklearn.preprocessing import OneHotEncoder\n",
    "\n",
    "class Evaluate_Model:\n",
    "    def __init__(self, config: EvaluationConfig):\n",
    "        self.config = config\n",
    "\n",
    "    def Processing_Data(self):\n",
    "\n",
    "      \n",
    "  \n",
    "        val_Data=os.path.join(self.config.training_data,'test')\n",
    "        X_val=[]\n",
    "        y_val=[]\n",
    "\n",
    "        for classe in os.listdir(val_Data):\n",
    "            \n",
    "          for img in os.listdir(os.path.join(val_Data,classe)) :\n",
    "            img_path=os.path.join(val_Data,classe,img)\n",
    "            img = tf.keras.preprocessing.image.load_img(img_path, target_size=(self.config.params_image_size[0], self.config.params_image_size[0]))\n",
    "            x = tf.keras.preprocessing.image.img_to_array(img)\n",
    "\n",
    "            x = tf.keras.applications.vgg16.preprocess_input(x)\n",
    "            X_val.append(x)\n",
    "            y_val.append(classe)\n",
    "\n",
    "        y_val_array = np.array(y_val)\n",
    "        y_val_reshaped = y_val_array.reshape(-1, 1)\n",
    "      \n",
    "\n",
    "        # Initialize the one-hot encoder\n",
    "        onehot_encoder = OneHotEncoder(sparse=False)\n",
    "\n",
    "        y_val_onehot =onehot_encoder.fit_transform(y_val_reshaped)\n",
    "\n",
    "        x_val=np.array(X_val)\n",
    "\n",
    "        self.val=x_val\n",
    "        self.y_val=y_val_onehot\n",
    "      \n",
    "      \n",
    "        \n",
    "\n",
    "    \n",
    "\n",
    "    @staticmethod\n",
    "    def load_model(path: Path) -> tf.keras.Model:\n",
    "        return tf.keras.models.load_model(path)\n",
    "\n",
    "\n",
    "    def evaluation(self):\n",
    "        self.model = self.load_model(self.config.trained_model_path)\n",
    "\n",
    "        self.score = self.model.evaluate(self.val,self.y_val)\n",
    "        self.save_score()\n",
    "\n",
    "    def save_score(self):\n",
    "        scores = {\"loss\": self.score[0], \"accuracy\": self.score[1]}\n",
    "        save_json(path=Path(\"scores.json\"), data=scores)\n",
    "\n",
    "\n",
    "  \n",
    "    def log_into_mlflow(self):\n",
    "      mlflow.set_registry_uri(self.config.MLflow_URI)\n",
    "      tracking_url_type_store = urlparse(mlflow.get_tracking_uri()).scheme\n",
    "      \n",
    "      with mlflow.start_run():\n",
    "          mlflow.log_params(self.config.all_params)\n",
    "          mlflow.log_metrics(\n",
    "              {\"loss\": self.score[0], \"accuracy\": self.score[1]}\n",
    "          )\n",
    "          # Model registry does not work with file store\n",
    "          if tracking_url_type_store != \"file\":\n",
    "\n",
    "              # Register the model\n",
    "              # There are other ways to use the Model Registry, which depends on the use case,\n",
    "              # please refer to the doc for more information:\n",
    "              # https://mlflow.org/docs/latest/model-registry.html#api-workflow\n",
    "              mlflow.keras.log_model(self.model, \"model\", registered_model_name=\"VGG16Model\")\n",
    "          else:\n",
    "              mlflow.keras.log_model(self.model, \"model\")\n",
    "    "
   ]
  },
  {
   "cell_type": "code",
   "execution_count": 54,
   "metadata": {},
   "outputs": [
    {
     "name": "stdout",
     "output_type": "stream",
     "text": [
      "[2024-03-24 06:09:32,736: INFO: common: yaml file: config\\config.yaml loaded successfully]\n",
      "[2024-03-24 06:09:32,741: INFO: common: yaml file: params.yaml loaded successfully]\n",
      "[2024-03-24 06:09:32,743: INFO: common: created directory at: artifacts]\n",
      "[2024-03-24 06:09:32,744: INFO: common: created directory at: artifacts\\training]\n"
     ]
    },
    {
     "name": "stderr",
     "output_type": "stream",
     "text": [
      "c:\\Users\\youss\\anaconda3\\envs\\classification_cancer\\lib\\site-packages\\sklearn\\preprocessing\\_encoders.py:975: FutureWarning: `sparse` was renamed to `sparse_output` in version 1.2 and will be removed in 1.4. `sparse_output` is ignored unless you leave `sparse` to its default value.\n",
      "  warnings.warn(\n"
     ]
    },
    {
     "name": "stdout",
     "output_type": "stream",
     "text": [
      "10/10 [==============================] - 22s 2s/step - loss: 1054.6379 - accuracy: 0.5048\n",
      "[2024-03-24 06:09:56,975: INFO: common: json file saved at: scores.json]\n"
     ]
    },
    {
     "name": "stderr",
     "output_type": "stream",
     "text": [
      "2024/03/24 06:09:58 WARNING mlflow.tensorflow: You are saving a TensorFlow Core model or Keras model without a signature. Inference with mlflow.pyfunc.spark_udf() will not work unless the model's pyfunc representation accepts pandas DataFrames as inference inputs.\n"
     ]
    },
    {
     "name": "stdout",
     "output_type": "stream",
     "text": [
      "[2024-03-24 06:10:00,044: WARNING: save: Found untraced functions such as _jit_compiled_convolution_op, _jit_compiled_convolution_op, _jit_compiled_convolution_op, _jit_compiled_convolution_op, _jit_compiled_convolution_op while saving (showing 5 of 14). These functions will not be directly callable after loading.]\n",
      "[2024-03-24 06:10:00,845: INFO: builder_impl: Assets written to: C:\\Users\\youss\\AppData\\Local\\Temp\\tmpmzdtwocv\\model\\data\\model\\assets]\n"
     ]
    },
    {
     "name": "stderr",
     "output_type": "stream",
     "text": [
      "Registered model 'VGG16Model' already exists. Creating a new version of this model...\n",
      "2024/03/24 06:11:45 INFO mlflow.tracking._model_registry.client: Waiting up to 300 seconds for model version to finish creation.                     Model name: VGG16Model, version 2\n",
      "Created version '2' of model 'VGG16Model'.\n"
     ]
    }
   ],
   "source": [
    "try:\n",
    "    config = ConfigurationManager()\n",
    "    Evaluate_model_config = config.get_Evaluation_config()\n",
    "    Training_model = Evaluate_Model(config=Evaluate_model_config )\n",
    "    Training_model.load_model(\"artifacts/training/model.h5\")\n",
    "    Training_model.Processing_Data()\n",
    "    Training_model.evaluation()\n",
    "    Training_model.log_into_mlflow()\n",
    "except Exception as e:\n",
    "    raise e"
   ]
  },
  {
   "cell_type": "markdown",
   "metadata": {},
   "source": []
  }
 ],
 "metadata": {
  "kernelspec": {
   "display_name": "classification_cancer",
   "language": "python",
   "name": "python3"
  },
  "language_info": {
   "codemirror_mode": {
    "name": "ipython",
    "version": 3
   },
   "file_extension": ".py",
   "mimetype": "text/x-python",
   "name": "python",
   "nbconvert_exporter": "python",
   "pygments_lexer": "ipython3",
   "version": "3.8.19"
  }
 },
 "nbformat": 4,
 "nbformat_minor": 2
}
